{
 "cells": [
  {
   "cell_type": "code",
   "execution_count": 11,
   "id": "4e00b660-38ee-4ff3-ba28-933640c3ab71",
   "metadata": {},
   "outputs": [],
   "source": [
    "# import libraries \n",
    "\n",
    "from bs4 import BeautifulSoup\n",
    "import requests\n",
    "import time\n",
    "import datetime\n",
    "\n",
    "import smtplib"
   ]
  },
  {
   "cell_type": "code",
   "execution_count": 18,
   "id": "6fe01437-4496-40c3-9174-5401bbc97cd2",
   "metadata": {},
   "outputs": [
    {
     "name": "stdout",
     "output_type": "stream",
     "text": [
      "Product title: \n",
      "            Trendies Analog Watch  - For Men 38040PP01\n",
      "           \n",
      "Product price: \n",
      "             ₹1,695\n",
      "            \n"
     ]
    }
   ],
   "source": [
    "# Connect to Website and pull in data\n",
    "\n",
    "URL = 'https://www.flipkart.com/fastrack-trendies-analog-watch-men/p/itmf3zhmgq5kgzzr?pid=WATF2Z4ZBKJBNVFH&lid=LSTWATF2Z4ZBKJBNVFH95QZPH'\n",
    "\n",
    "headers = {\"User-Agent\": \"Mozilla/5.0 (Windows NT 10.0; Win64; x64) AppleWebKit/537.36 (KHTML, like Gecko) Chrome/78.0.3904.108 Safari/537.36\", \"Accept-Encoding\":\"gzip, deflate\", \"Accept\":\"text/html,application/xhtml+xml,application/xml;q=0.9,*/*;q=0.8\", \"DNT\":\"1\",\"Connection\":\"close\", \"Upgrade-Insecure-Requests\":\"1\"}\n",
    "\n",
    "page = requests.get(URL, headers=headers)\n",
    "\n",
    "soup1 = BeautifulSoup(page.content, \"html.parser\")\n",
    "soup2 = BeautifulSoup(soup1.prettify(), \"html.parser\")\n",
    "\n",
    "title_element = soup2.find('span', class_='VU-ZEz')\n",
    "\n",
    "if title_element:\n",
    "    title = title_element.get_text()\n",
    "    print(f'Product title: {title}')\n",
    "else:\n",
    "    print('Title element not found')\n",
    "\n",
    "price_element = soup2.find('div', class_='Nx9bqj CxhGGd')\n",
    "\n",
    "if price_element:\n",
    "    price = price_element.get_text()\n",
    "    print(f'Product price: {price}')\n",
    "else:\n",
    "    print('Price element not found')\n"
   ]
  },
  {
   "cell_type": "code",
   "execution_count": 13,
   "id": "1e0d72a7-9452-4c42-afda-c7fa217f5f16",
   "metadata": {},
   "outputs": [
    {
     "name": "stdout",
     "output_type": "stream",
     "text": [
      "Trendies Analog Watch  - For Men 38040PP01\n",
      "1,695\n"
     ]
    }
   ],
   "source": [
    "# Clean up the data a little bit\n",
    "\n",
    "price = price.strip()[1:]\n",
    "title = title.strip()\n",
    "\n",
    "print(title)\n",
    "print(price)"
   ]
  },
  {
   "cell_type": "code",
   "execution_count": 14,
   "id": "69eb04a9-3e7a-4bf3-b12d-bec24d048049",
   "metadata": {},
   "outputs": [
    {
     "name": "stdout",
     "output_type": "stream",
     "text": [
      "2024-07-28\n"
     ]
    }
   ],
   "source": [
    "# Create a Timestamp for your output to track when data was collected\n",
    "\n",
    "import datetime\n",
    "\n",
    "today = datetime.date.today()\n",
    "\n",
    "print(today)\n"
   ]
  },
  {
   "cell_type": "code",
   "execution_count": 15,
   "id": "e56196fa-b7d4-4dbd-a9c6-0a6754e06f1c",
   "metadata": {},
   "outputs": [],
   "source": [
    "# Create CSV and write headers and data into the file\n",
    "\n",
    "import csv \n",
    "\n",
    "header = ['Title', 'Price', 'Date']\n",
    "data = [title, price, today]\n",
    "\n",
    "\n",
    "with open('FlipkartWebScraperDataset.csv', 'w', newline='', encoding='UTF8') as f:\n",
    "    writer = csv.writer(f)\n",
    "    writer.writerow(header)\n",
    "    writer.writerow(data)"
   ]
  },
  {
   "cell_type": "code",
   "execution_count": 16,
   "id": "a39e12ff-d9b6-4b93-82ac-a4592602ce29",
   "metadata": {},
   "outputs": [
    {
     "name": "stdout",
     "output_type": "stream",
     "text": [
      "                                        Title  Price        Date\n",
      "0  Trendies Analog Watch  - For Men 38040PP01  1,695  2024-07-28\n"
     ]
    }
   ],
   "source": [
    "import pandas as pd\n",
    "\n",
    "df = pd.read_csv(r'C:\\Users\\yadav\\Downloads\\Jupyter notebook\\flipkart_web_scrapping\\FlipkartWebScraperDataset.csv')\n",
    "\n",
    "print(df)"
   ]
  },
  {
   "cell_type": "code",
   "execution_count": null,
   "id": "78dfe28b-5a17-4a0b-b1e0-f97457307963",
   "metadata": {},
   "outputs": [],
   "source": [
    "#Now we are appending data to the csv\n",
    "\n",
    "with open('FlipkartWebScraperDataset.csv', 'a+', newline='', encoding='UTF8') as f:\n",
    "    writer = csv.writer(f)\n",
    "    writer.writerow(data)"
   ]
  },
  {
   "cell_type": "code",
   "execution_count": null,
   "id": "df086696-e84a-41f1-840a-ad2a2bb6a7bf",
   "metadata": {},
   "outputs": [],
   "source": [
    " #Combine all of the above code into one function\n",
    "\n",
    "\n",
    "def check_price():\n",
    "    URL = 'https://www.flipkart.com/fastrack-trendies-analog-watch-men/p/itmf3zhmgq5kgzzr?pid=WATF2Z4ZBKJBNVFH&lid=LSTWATF2Z4ZBKJBNVFH95QZPH'\n",
    "\n",
    "    headers = {\"User-Agent\": \"Mozilla/5.0 (Windows NT 10.0; Win64; x64) AppleWebKit/537.36 (KHTML, like Gecko) Chrome/78.0.3904.108 Safari/537.36\", \"Accept-Encoding\":\"gzip, deflate\", \"Accept\":\"text/html,application/xhtml+xml,application/xml;q=0.9,*/*;q=0.8\", \"DNT\":\"1\",\"Connection\":\"close\", \"Upgrade-Insecure-Requests\":\"1\"}\n",
    "\n",
    "    page = requests.get(URL, headers=headers)\n",
    "\n",
    "    soup1 = BeautifulSoup(page.content, \"html.parser\")\n",
    "    soup2 = BeautifulSoup(soup1.prettify(), \"html.parser\")\n",
    "\n",
    "    title_element = soup2.find('span', class_='VU-ZEz')\n",
    "    title = title_element.get_text()\n",
    "        \n",
    "    price_element = soup2.find('div', class_='Nx9bqj CxhGGd')\n",
    "    price = price_element.get_text()\n",
    "        \n",
    "    price = price.strip()[1:]\n",
    "    title = title.strip()\n",
    "\n",
    "    import datetime\n",
    "\n",
    "    today = datetime.date.today()\n",
    "\n",
    "    import csv \n",
    "\n",
    "    header = ['Title', 'Price', 'Date']\n",
    "    data = [title, price, today]\n",
    "\n",
    "    with open('FlipkartWebScraperDataset.csv', 'a+', newline='', encoding='UTF8') as f:\n",
    "        writer = csv.writer(f)\n",
    "        writer.writerow(data)\n",
    "\n",
    "    #if(price < 1000):\n",
    "        #send_mail()"
   ]
  },
  {
   "cell_type": "code",
   "execution_count": null,
   "id": "4273daf6-d806-4f5a-8f70-1189b2c917a5",
   "metadata": {},
   "outputs": [],
   "source": [
    "#Retrieving data according to a timer, based on seconds-so 86,400 sec means every 24 hrs\n",
    "\n",
    "while(True):\n",
    "    check_price()\n",
    "    time.sleep() \n"
   ]
  },
  {
   "cell_type": "code",
   "execution_count": null,
   "id": "29cdee8c-e8f4-47a3-a8cd-0e4bef82c12b",
   "metadata": {},
   "outputs": [],
   "source": [
    "import pandas as pd\n",
    "\n",
    "df = pd.read_csv(r'C:\\Users\\yadav\\Downloads\\Jupyter notebook\\flipkart_web_scrapping\\FlipkartWebScraperDataset.csv')\n",
    "\n",
    "print(df)"
   ]
  },
  {
   "cell_type": "code",
   "execution_count": null,
   "id": "30161054-b5a3-4033-9283-a9bce449629b",
   "metadata": {},
   "outputs": [],
   "source": [
    "# If uou want to try sending yourself an email (just for fun) when a price hits below a certain level you can try it\n",
    "# out with this script\n",
    "\n",
    "def send_mail():\n",
    "    server = smtplib.SMTP_SSL('smtp.gmail.com',465)\n",
    "    server.ehlo()\n",
    "    #server.starttls()\n",
    "    server.ehlo()\n",
    "    server.login('yadavprabaht070@gmail.com','xxxxxxxxxxxxxx')\n",
    "    \n",
    "    subject = \"The watch you want is below ₹1000! Now is your chance to buy!\"\n",
    "    body = \"Prabhat, This is the moment we have been waiting for. Now is your chance to pick up the watch of your dreams. Don't mess it up! Link here: https://www.flipkart.com/fastrack-trendies-analog-watch-men/p/itmf3zhmgq5kgzzr?pid=WATF2Z4ZBKJBNVFH&lid=LSTWATF2Z4ZBKJBNVFH95QZPH\"\n",
    "   \n",
    "    msg = f\"Subject: {subject}\\n\\n{body}\"\n",
    "    \n",
    "    server.sendmail(\n",
    "        'yadavprabhat070@gmail.com',\n",
    "        msg\n",
    "     \n",
    "    )\n",
    "\n"
   ]
  }
 ],
 "metadata": {
  "kernelspec": {
   "display_name": "Python 3 (ipykernel)",
   "language": "python",
   "name": "python3"
  },
  "language_info": {
   "codemirror_mode": {
    "name": "ipython",
    "version": 3
   },
   "file_extension": ".py",
   "mimetype": "text/x-python",
   "name": "python",
   "nbconvert_exporter": "python",
   "pygments_lexer": "ipython3",
   "version": "3.10.4"
  }
 },
 "nbformat": 4,
 "nbformat_minor": 5
}
